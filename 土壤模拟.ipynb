{
 "cells": [
  {
   "cell_type": "code",
   "execution_count": 1,
   "id": "1841ca2d-8227-4a52-b670-85c9a82cdecf",
   "metadata": {},
   "outputs": [],
   "source": [
    "import cometspy as c\n",
    "import copy\n",
    "import numpy as np\n",
    "import cobra\n",
    "from matplotlib import pyplot as plt\n",
    "import sys\n",
    "import random\n",
    "from cometspy.utils import grow_rocks, pick_random_locations"
   ]
  },
  {
   "cell_type": "code",
   "execution_count": 2,
   "id": "a90f38d4-303c-405a-95fb-ff864af9f041",
   "metadata": {},
   "outputs": [
    {
     "name": "stdout",
     "output_type": "stream",
     "text": [
      "Set parameter Username\n",
      "Academic license - for non-commercial use only - expires 2025-09-23\n"
     ]
    }
   ],
   "source": [
    "ecoli = cobra.io.read_sbml_model('e_coli_core.xml')\n",
    "iYS = cobra.io.read_sbml_model('iYS1720.xml')"
   ]
  },
  {
   "cell_type": "code",
   "execution_count": 3,
   "id": "63a01d24-7306-4196-97fc-29150f7ec4cf",
   "metadata": {},
   "outputs": [],
   "source": [
    "ecoli.reactions.get_by_id(\"BIOMASS_Ecoli_core_w_GAM\").bounds = (0., 1000.)\n",
    "iYS.reactions.get_by_id('BIOMASS_iRR1083_1').bounds = (0., 1000.)"
   ]
  },
  {
   "cell_type": "code",
   "execution_count": 4,
   "id": "fbe3d69c-4c90-4a2f-b79e-a53ebfd5f242",
   "metadata": {},
   "outputs": [
    {
     "name": "stderr",
     "output_type": "stream",
     "text": [
      "D:\\pythoncode\\comets\\.venv\\Lib\\site-packages\\cometspy\\model.py:654: FutureWarning: The behavior of DataFrame concatenation with empty or all-NA entries is deprecated. In a future version, this will no longer exclude empty or all-NA columns when determining the result dtypes. To retain the old behavior, exclude the relevant entries before the concat operation.\n",
      "  self.smat = pd.concat([self.smat, cdf])\n",
      "D:\\pythoncode\\comets\\.venv\\Lib\\site-packages\\cometspy\\model.py:667: FutureWarning: Calling int on a single element Series is deprecated and will raise a TypeError in the future. Use int(ser.iloc[0]) instead\n",
      "  self.objective = [int(self.reactions[self.reactions.\n",
      "D:\\pythoncode\\comets\\.venv\\Lib\\site-packages\\cometspy\\model.py:654: FutureWarning: The behavior of DataFrame concatenation with empty or all-NA entries is deprecated. In a future version, this will no longer exclude empty or all-NA columns when determining the result dtypes. To retain the old behavior, exclude the relevant entries before the concat operation.\n",
      "  self.smat = pd.concat([self.smat, cdf])\n",
      "D:\\pythoncode\\comets\\.venv\\Lib\\site-packages\\cometspy\\model.py:667: FutureWarning: Calling int on a single element Series is deprecated and will raise a TypeError in the future. Use int(ser.iloc[0]) instead\n",
      "  self.objective = [int(self.reactions[self.reactions.\n"
     ]
    }
   ],
   "source": [
    "ecoli_comets = c.model(ecoli)\n",
    "iYS_comets = c.model(iYS)"
   ]
  },
  {
   "cell_type": "code",
   "execution_count": 5,
   "id": "3cedda9a-8327-45b2-9358-2430773b5185",
   "metadata": {},
   "outputs": [],
   "source": [
    "ecoli_comets.open_exchanges()\n",
    "iYS_comets.open_exchanges()\n",
    "ecoli_comets.ensure_sinks_are_not_exchanges()\n",
    "iYS_comets.ensure_sinks_are_not_exchanges()\n",
    "#iAF_comets.open_exchanges()"
   ]
  },
  {
   "cell_type": "code",
   "execution_count": 6,
   "id": "95ae1873-8af7-47f8-aee8-815336de59ba",
   "metadata": {},
   "outputs": [],
   "source": [
    "grid_size = 50\n",
    "#n_rocks = 30\n",
    "random.seed(3)"
   ]
  },
  {
   "cell_type": "code",
   "execution_count": 7,
   "id": "4ddf703b-1dea-44b4-a987-ceec5655a4fa",
   "metadata": {},
   "outputs": [],
   "source": [
    "#rock_locs = grow_rocks(n = n_rocks, xrange = [2,grid_size-2],yrange = [2,grid_size-2],mean_size = 10)"
   ]
  },
  {
   "cell_type": "code",
   "execution_count": 8,
   "id": "03f2fa86-0f01-4eaf-8866-db3355b57a1c",
   "metadata": {},
   "outputs": [],
   "source": [
    "#forbidden_locs = copy.deepcopy(rock_locs)\n",
    "n_founders = 100\n",
    "ecoli_locs = pick_random_locations(n = n_founders, xrange = [1,grid_size], yrange = [1,grid_size])\n",
    "iYS_locs = pick_random_locations(n_founders, [1,grid_size],[1,grid_size])\n",
    "#iAF_locs = pick_random_locations(n_founders, [1,grid_size],[1,grid_size], forbidden_locs)"
   ]
  },
  {
   "cell_type": "code",
   "execution_count": 9,
   "id": "8433fbe7-dddf-42f7-9e72-3dada1aef367",
   "metadata": {},
   "outputs": [
    {
     "data": {
      "text/plain": [
       "<matplotlib.image.AxesImage at 0x168752ccfe0>"
      ]
     },
     "execution_count": 9,
     "metadata": {},
     "output_type": "execute_result"
    },
    {
     "data": {
      "image/png": "[encoded data removed]",
      "text/plain": [
       "<Figure size 640x480 with 1 Axes>"
      ]
     },
     "metadata": {},
     "output_type": "display_data"
    }
   ],
   "source": [
    "initial_image = np.zeros((grid_size,grid_size,3))\n",
    "#for rock in rock_locs:\n",
    "#    initial_image[rock[0],rock[1],0:3] = 0.5\n",
    "for loc in ecoli_locs:\n",
    "    initial_image[loc[0],loc[1],0] = 1 \n",
    "for loc in iYS_locs:\n",
    "    initial_image[loc[0],loc[1],1] = 1 \n",
    "#for loc in iAF_locs:\n",
    "#    initial_image[loc[0],loc[1],2] = 1 \n",
    "plt.imshow(initial_image)"
   ]
  },
  {
   "cell_type": "code",
   "execution_count": 10,
   "id": "14805b0d-d46b-4dd5-b488-203f02171e52",
   "metadata": {},
   "outputs": [],
   "source": [
    "ecoli_initial_pop = [] \n",
    "for loc in ecoli_locs:\n",
    "    ecoli_initial_pop.append([loc[0], loc[1], 1.e-5]) \n",
    "ecoli_comets.initial_pop = ecoli_initial_pop"
   ]
  },
  {
   "cell_type": "code",
   "execution_count": 11,
   "id": "646b2d95-88af-43f0-bcba-aaa809af1be6",
   "metadata": {},
   "outputs": [],
   "source": [
    "iYS_initial_pop = [] \n",
    "for loc in iYS_locs:\n",
    "    iYS_initial_pop.append([loc[0], loc[1], 1.e-5]) \n",
    "iYS_comets.initial_pop = iYS_initial_pop"
   ]
  },
  {
   "cell_type": "code",
   "execution_count": 12,
   "id": "4255ffc0-7613-4d5e-864d-2528b8e1d98a",
   "metadata": {},
   "outputs": [],
   "source": [
    "#iAF_initial_pop = [] \n",
    "#for loc in iAF_locs:\n",
    "#    iAF_initial_pop.append([loc[0], loc[1], 1.e-8]) \n",
    "#iAF_comets.initial_pop = iAF_initial_pop"
   ]
  },
  {
   "cell_type": "code",
   "execution_count": 13,
   "id": "6531b6d7-d9c7-4f0c-b284-2775c9594824",
   "metadata": {},
   "outputs": [
    {
     "name": "stdout",
     "output_type": "stream",
     "text": [
      "building empty layout model\n",
      "models will need to be added with layout.add_model()\n"
     ]
    }
   ],
   "source": [
    "layout = c.layout()"
   ]
  },
  {
   "cell_type": "code",
   "execution_count": 14,
   "id": "33c35371-2fdf-463e-9ee8-93cd2ffe74e9",
   "metadata": {},
   "outputs": [],
   "source": [
    "layout.grid = [grid_size,grid_size]"
   ]
  },
  {
   "cell_type": "code",
   "execution_count": 15,
   "id": "f6c23230-805e-4b19-a7d4-4a0dd153911c",
   "metadata": {},
   "outputs": [],
   "source": [
    "#layout.add_barriers(rock_locs)"
   ]
  },
  {
   "cell_type": "code",
   "execution_count": 16,
   "id": "48a74920-19d5-4c6f-a6ec-ff32f0ddbbb9",
   "metadata": {},
   "outputs": [
    {
     "name": "stderr",
     "output_type": "stream",
     "text": [
      "D:\\pythoncode\\comets\\.venv\\Lib\\site-packages\\cometspy\\layout.py:1427: FutureWarning: The behavior of DataFrame concatenation with empty or all-NA entries is deprecated. In a future version, this will no longer exclude empty or all-NA columns when determining the result dtypes. To retain the old behavior, exclude the relevant entries before the concat operation.\n",
      "  self.media = pd.concat([self.media, new_row],\n"
     ]
    }
   ],
   "source": [
    "layout.add_model(ecoli_comets)\n",
    "layout.add_model(iYS_comets)"
   ]
  },
  {
   "cell_type": "code",
   "execution_count": 17,
   "id": "6fa88d47-396a-45f6-8eb0-22865d801a9e",
   "metadata": {},
   "outputs": [],
   "source": [
    "#abundant_trace_metabolites = ['ca2_e', 'cl_e', 'co2_e', 'cobalt2_e', 'cu2_e', 'fe2_e', 'fe3_e', 'h_e', 'hco3_e', 'k_e', 'mg2_e', 'mn2_e', 'mobd_e', 'na1_e', 'ni2_e', 'pi_e', 'sel_e', 'so3_e', 'so4_e', 'tungs_e', 'zn2_e']"
   ]
  },
  {
   "cell_type": "code",
   "execution_count": 18,
   "id": "f8b6991d-7c1b-4c7f-9732-ff5e349ea165",
   "metadata": {},
   "outputs": [],
   "source": [
    "#for met in abundant_trace_metabolites:\n",
    "#    layout.set_specific_metabolite(met, 1000.,static= True)"
   ]
  },
  {
   "cell_type": "code",
   "execution_count": 19,
   "id": "5a65270e-5393-422b-9a26-062a4db42fed",
   "metadata": {},
   "outputs": [],
   "source": [
    "layout.set_specific_metabolite('nh4_e',0.1) \n",
    "layout.set_specific_metabolite('o2_e', 0)\n",
    "layout.set_specific_metabolite('glc__D_e', 0.1)\n",
    "layout.set_specific_metabolite('pi_e',0.1)\n",
    "layout.set_specific_metabolite('h2o_e',0.1)\n",
    "#layout.set_global_periodic_media('h2o_e',function = 'step',amplitude = 0.1,period = 5, phase = 0, offset = -0.0001)\n",
    "#layout.set_global_periodic_media('h2o_e',function = 'step',amplitude = 0,period = 1, phase = 0, offset = -0.0001)#设置环境水\n",
    "layout.set_specific_metabolite('h_e',1e-7)\n",
    "layout.set_specific_metabolite('so4_e',0.1)#设置氢离子\n",
    "layout.set_specific_metabolite('ca2_e',0.1)#设置氢离子\n",
    "layout.set_specific_metabolite('fe3_e',0.1)#设置氢离子\n",
    "layout.set_specific_metabolite('k_e',0.1)#设置氢离子\n",
    "layout.set_specific_metabolite('mg2_e',0.1)#设置氢离子"
   ]
  },
  {
   "cell_type": "code",
   "execution_count": 20,
   "id": "f1072f04-7a89-4616-a911-521edb1b725a",
   "metadata": {},
   "outputs": [],
   "source": [
    "#for x in range(grid_size):\n",
    "#    layout.set_specific_static_at_location('o2_e', (0,x), 0.01)\n",
    "#    layout.set_specific_refresh_at_location('nh4_e', (0,x), 0.000001)"
   ]
  },
  {
   "cell_type": "code",
   "execution_count": 21,
   "id": "cb7c4bd2-a6a0-402d-8396-8b5df7c0a3a6",
   "metadata": {},
   "outputs": [],
   "source": [
    "for x in range(grid_size):\n",
    "    layout.set_specific_static_at_location('o2_e', (grid_size-1,x), 0)\n",
    "    layout.set_specific_refresh_at_location('o2_e', (25,x), 0)\n",
    "    layout.set_specific_refresh_at_location('o2_e', (26,x), 0)\n",
    "    layout.set_specific_refresh_at_location('o2_e', (27,x), 0)\n",
    "    layout.set_specific_refresh_at_location('o2_e', (28,x), 0)\n",
    "    layout.set_specific_refresh_at_location('o2_e', (29,x), 0)\n",
    "    layout.set_specific_refresh_at_location('o2_e', (30,x), 0)\n",
    "    layout.set_specific_static_at_location('o2_e', (0,x), 0.001) "
   ]
  },
  {
   "cell_type": "code",
   "execution_count": 22,
   "id": "32444e68-519c-4f14-a380-f63e41b1140e",
   "metadata": {},
   "outputs": [],
   "source": [
    "# for x in range(grid_size):\n",
    "#     layout.set_specific_static_at_location('nh4_e', (x,0), 0.0)\n",
    "#     layout.set_specific_refresh_at_location('glc__D_e', (x,0), .0001)\n",
    "#     #layout.set_specific_refresh_at_location('meoh_e', (x,0), .000001)\n",
    "#     layout.set_specific_refresh_at_location('succ_e', (x,0), .000001)"
   ]
  },
  {
   "cell_type": "code",
   "execution_count": 23,
   "id": "f921dec3-faf0-4a5f-9ccd-07d85b223e67",
   "metadata": {},
   "outputs": [],
   "source": [
    "params = c.params()\n",
    "params.set_param('timeStep', 0.1)\n",
    "params.set_param('maxCycles', 20)\n",
    "params.set_param('maxSpaceBiomass', 10)\n",
    "params.set_param('deathRate', 0.0001) # die at rate of 1/10000 per hour\n",
    "params.set_param('writeBiomassLog', True)\n",
    "params.set_param('BiomassLogRate', 5)\n",
    "params.set_param('writeMediaLog', True)\n",
    "params.set_param('MediaLogRate', 5)\n",
    "params.set_param(\"writeFluxLog\", True)\n",
    "params.set_param(\"FluxLogRate\", 5)\n",
    "params.set_param('numRunThreads', 3)\n",
    "params.set_param('defaultKm', 0.000001)"
   ]
  },
  {
   "cell_type": "code",
   "execution_count": 24,
   "id": "a0899a48-53f0-49fa-a08b-df645b723486",
   "metadata": {},
   "outputs": [
    {
     "name": "stdout",
     "output_type": "stream",
     "text": [
      "\n",
      "Running COMETS simulation ...\n",
      "\n",
      "Debug Here ...\n"
     ]
    },
    {
     "name": "stderr",
     "output_type": "stream",
     "text": [
      "D:\\pythoncode\\comets\\.venv\\Lib\\site-packages\\cometspy\\comets.py:423: FutureWarning: The 'delim_whitespace' keyword in pd.read_csv is deprecated and will be removed in a future version. Use ``sep='\\s+'`` instead\n",
      "  self.fluxes = pd.read_csv(self.working_dir + self.parameters.all_params['FluxLogName'],\n",
      "D:\\pythoncode\\comets\\.venv\\Lib\\site-packages\\cometspy\\comets.py:437: FutureWarning: The 'delim_whitespace' keyword in pd.read_csv is deprecated and will be removed in a future version. Use ``sep='\\s+'`` instead\n",
      "  self.media = pd.read_csv(self.working_dir + self.parameters.all_params[\n"
     ]
    },
    {
     "name": "stdout",
     "output_type": "stream",
     "text": [
      "Done!\n"
     ]
    }
   ],
   "source": [
    "sim = c.comets(layout, params) \n",
    "sim.run(delete_files = False) "
   ]
  },
  {
   "cell_type": "code",
   "execution_count": 25,
   "id": "e717f28c-1cf3-4bec-bffa-7896f578965c",
   "metadata": {},
   "outputs": [
    {
     "data": {
      "text/plain": [
       "<Axes: xlabel='cycle'>"
      ]
     },
     "execution_count": 25,
     "metadata": {},
     "output_type": "execute_result"
    },
    {
     "data": {
      "image/png": "[encoded data removed]",
      "text/plain": [
       "<Figure size 640x480 with 1 Axes>"
      ]
     },
     "metadata": {},
     "output_type": "display_data"
    }
   ],
   "source": [
    "sim.total_biomass.plot(x = 'cycle')"
   ]
  },
  {
   "cell_type": "code",
   "execution_count": 26,
   "id": "bbaec0d4-6688-40b7-b322-428c04418b52",
   "metadata": {},
   "outputs": [
    {
     "name": "stdout",
     "output_type": "stream",
     "text": [
      "    cycle  e_coli_core   iYS1720\n",
      "0       0     0.001000  0.001000\n",
      "1       1     0.001021  0.001020\n",
      "2       2     0.001052  0.001052\n",
      "3       3     0.001086  0.001091\n",
      "4       4     0.001123  0.001134\n",
      "5       5     0.001164  0.001182\n",
      "6       6     0.001208  0.001236\n",
      "7       7     0.001256  0.001296\n",
      "8       8     0.001308  0.001360\n",
      "9       9     0.001365  0.001431\n",
      "10     10     0.001426  0.001508\n",
      "11     11     0.001491  0.001590\n",
      "12     12     0.001561  0.001679\n",
      "13     13     0.001636  0.001775\n",
      "14     14     0.001716  0.001879\n",
      "15     15     0.001801  0.001990\n",
      "16     16     0.001892  0.002109\n",
      "17     17     0.001989  0.002237\n",
      "18     18     0.002091  0.002374\n",
      "19     19     0.002200  0.002521\n",
      "20     20     0.002316  0.002678\n"
     ]
    }
   ],
   "source": [
    "print(sim.total_biomass)"
   ]
  },
  {
   "cell_type": "code",
   "execution_count": 27,
   "id": "9d34c178-5d6d-478c-b746-c7b2e525366c",
   "metadata": {},
   "outputs": [
    {
     "data": {
      "text/plain": [
       "Text(0, 0.5, 'Concentration (mmol)')"
      ]
     },
     "execution_count": 27,
     "metadata": {},
     "output_type": "execute_result"
    },
    {
     "data": {
      "image/png": "[encoded data removed]",
      "text/plain": [
       "<Figure size 640x480 with 1 Axes>"
      ]
     },
     "metadata": {},
     "output_type": "display_data"
    }
   ],
   "source": [
    "media = sim.media.copy()\n",
    "media2 = sim.media.copy()\n",
    "media = media[media.conc_mmol<900]\n",
    "\n",
    "fig, ax = plt.subplots()\n",
    "media.groupby('metabolite').plot(x='cycle', ax =ax, y='conc_mmol')\n",
    "ax.legend(('acetate','ethanol', 'formate', 'glucose',))\n",
    "ax.set_ylabel(\"Concentration (mmol)\")"
   ]
  },
  {
   "cell_type": "code",
   "execution_count": 28,
   "id": "8ac47029-9f85-4f66-8c2e-a4a81628d299",
   "metadata": {},
   "outputs": [
    {
     "name": "stdout",
     "output_type": "stream",
     "text": [
      "<bound method DataFrame.reset_index of        metabolite  cycle   x   y  conc_mmol\n",
      "7500        h2o_e      0   1   1        0.1\n",
      "7501        h2o_e      0   1   2        0.1\n",
      "7502        h2o_e      0   1   3        0.1\n",
      "7503        h2o_e      0   1   4        0.1\n",
      "7504        h2o_e      0   1   5        0.1\n",
      "...           ...    ...  ..  ..        ...\n",
      "174895      h2o_e     20  50  46        0.1\n",
      "174896      h2o_e     20  50  47        0.1\n",
      "174897      h2o_e     20  50  48        0.1\n",
      "174898      h2o_e     20  50  49        0.1\n",
      "174899      h2o_e     20  50  50        0.1\n",
      "\n",
      "[12500 rows x 5 columns]>\n"
     ]
    }
   ],
   "source": [
    "txt=media.groupby('metabolite')\n",
    "print(txt.get_group('h2o_e').reset_index)"
   ]
  },
  {
   "cell_type": "code",
   "execution_count": 29,
   "id": "ddd7baaf-3a2f-4b21-8acd-11e1dec6ac86",
   "metadata": {},
   "outputs": [
    {
     "name": "stdout",
     "output_type": "stream",
     "text": [
      "<bound method DataFrame.reset_index of        metabolite  cycle   x   y     conc_mmol\n",
      "30050       co2_e      5   1   1  1.416837e-06\n",
      "30051       co2_e      5   1   2  1.408737e-06\n",
      "30052       co2_e      5   1   3  1.393045e-06\n",
      "30053       co2_e      5   1   4  1.370905e-06\n",
      "30054       co2_e      5   1   5  1.344236e-06\n",
      "...           ...    ...  ..  ..           ...\n",
      "159895      co2_e     20  50  46  2.815661e-07\n",
      "159896      co2_e     20  50  47  2.884345e-07\n",
      "159897      co2_e     20  50  48  2.939082e-07\n",
      "159898      co2_e     20  50  49  2.977156e-07\n",
      "159899      co2_e     20  50  50  2.996674e-07\n",
      "\n",
      "[10000 rows x 5 columns]>\n"
     ]
    }
   ],
   "source": [
    "txt2=media2.groupby('metabolite')\n",
    "print(txt2.get_group('co2_e').reset_index)"
   ]
  },
  {
   "cell_type": "code",
   "execution_count": 30,
   "id": "926fb105-db90-464c-b0e1-94bde7179251",
   "metadata": {},
   "outputs": [],
   "source": [
    "im = sim.get_biomass_image('e_coli_core', params.all_params['maxCycles'])"
   ]
  },
  {
   "cell_type": "code",
   "execution_count": 31,
   "id": "9ccc6bb1-08e8-404c-9f1a-e86ce47efc5a",
   "metadata": {},
   "outputs": [],
   "source": [
    "im2 = sim.get_biomass_image('iYS1720',params.all_params['maxCycles'])"
   ]
  },
  {
   "cell_type": "code",
   "execution_count": 32,
   "id": "94369bab-e24d-4a62-b895-b7adaac13d45",
   "metadata": {},
   "outputs": [],
   "source": [
    "#im3 = sim.get_biomass_image('iAF692',params.all_params['maxCycles'])"
   ]
  },
  {
   "cell_type": "code",
   "execution_count": 33,
   "id": "117f2ca3-acc7-4c39-9e0c-042dcca0c95a",
   "metadata": {},
   "outputs": [],
   "source": [
    "final = np.zeros((grid_size,grid_size,3))"
   ]
  },
  {
   "cell_type": "code",
   "execution_count": 34,
   "id": "99485879-d344-4977-bc32-65d5292d92f7",
   "metadata": {},
   "outputs": [],
   "source": [
    "final[:,:,0] = im / np.max(im)"
   ]
  },
  {
   "cell_type": "code",
   "execution_count": 35,
   "id": "5430d449-d631-457c-b376-b9a727aceb42",
   "metadata": {},
   "outputs": [],
   "source": [
    "final[:,:,1] = im2 / np.max(im2)"
   ]
  },
  {
   "cell_type": "code",
   "execution_count": 36,
   "id": "d0d347c8-e3c2-4940-8f70-553f66d06898",
   "metadata": {},
   "outputs": [],
   "source": [
    "#final[:,:,2] = im3 / np.max(im3)"
   ]
  },
  {
   "cell_type": "code",
   "execution_count": 37,
   "id": "9d1073c8-51c4-4a25-9643-45f5ed99c1b6",
   "metadata": {},
   "outputs": [],
   "source": [
    "#for rock in rock_locs:\n",
    "#    final[rock[0]-1,rock[1]-1,0:3] = 0.4"
   ]
  },
  {
   "cell_type": "code",
   "execution_count": 38,
   "id": "2e6e8d45-d9a3-4dd2-a39c-ab7573760198",
   "metadata": {},
   "outputs": [
    {
     "data": {
      "text/plain": [
       "<matplotlib.image.AxesImage at 0x1687ecceab0>"
      ]
     },
     "execution_count": 38,
     "metadata": {},
     "output_type": "execute_result"
    },
    {
     "data": {
      "image/png": "[encoded data removed]",
      "text/plain": [
       "<Figure size 310x310 with 1 Axes>"
      ]
     },
     "metadata": {},
     "output_type": "display_data"
    }
   ],
   "source": [
    "fig, ax = plt.subplots(figsize = (3.1, 3.1))\n",
    "ax.imshow(final)\n",
    "plt.imshow(final)"
   ]
  },
  {
   "cell_type": "code",
   "execution_count": 61,
   "id": "7ef9413f-38d2-4f2c-961a-5a4d582e8271",
   "metadata": {},
   "outputs": [
    {
     "data": {
      "text/plain": [
       "<matplotlib.image.AxesImage at 0x168755c6ed0>"
      ]
     },
     "execution_count": 61,
     "metadata": {},
     "output_type": "execute_result"
    },
    {
     "data": {
      "image/png": "[encoded data removed]",
      "text/plain": [
       "<Figure size 640x480 with 1 Axes>"
      ]
     },
     "metadata": {},
     "output_type": "display_data"
    }
   ],
   "source": [
    "plt.imshow(sim.get_metabolite_image(\"h2o_e\",20))"
   ]
  },
  {
   "cell_type": "code",
   "execution_count": 40,
   "id": "1d80512e-0820-4c79-afeb-5186cded8c53",
   "metadata": {},
   "outputs": [],
   "source": [
    "#import pandas as pd\n",
    "#with pd.ExcelWriter('soil有水.xlsx') as writer:  \n",
    "#    txt2.to_excel(writer, index = False, sheet_name='co2')"
   ]
  },
  {
   "cell_type": "code",
   "execution_count": 41,
   "id": "35d0c0dc-60ef-464c-908e-70fefa64a650",
   "metadata": {},
   "outputs": [
    {
     "name": "stdout",
     "output_type": "stream",
     "text": [
      "[(2, 33), (47, 12), (18, 41), (7, 28), (28, 10), (26, 44), (30, 3), (21, 18), (48, 11), (12, 27), (47, 25), (26, 4), (23, 47), (33, 4), (40, 32), (24, 42), (12, 43), (47, 21), (45, 3), (10, 24), (14, 15), (40, 29), (35, 34), (44, 37), (38, 8), (48, 26), (8, 41), (8, 4), (9, 47), (49, 43), (24, 40), (21, 15), (7, 27), (2, 14), (31, 2), (22, 37), (45, 36), (40, 48), (13, 34), (5, 17), (26, 22), (34, 34), (46, 16), (40, 4), (33, 34), (38, 38), (45, 33), (47, 31), (7, 18), (7, 25), (29, 10), (3, 38), (16, 24), (34, 26), (33, 44), (35, 12), (1, 34), (22, 43), (28, 25), (36, 23), (10, 9), (1, 2), (19, 15), (17, 17), (3, 41), (49, 15), (23, 49), (4, 3), (42, 13), (45, 47), (12, 20), (13, 21), (9, 46), (46, 40), (11, 26), (39, 12), (10, 45), (33, 5), (26, 3), (26, 40), (15, 41), (8, 43), (12, 47), (32, 25), (44, 8), (43, 39), (24, 4), (41, 27), (6, 31), (17, 28), (3, 23), (29, 45), (26, 23), (2, 9), (41, 20), (29, 25), (23, 24), (35, 37), (34, 8), (42, 27)]\n"
     ]
    }
   ],
   "source": [
    "print(ecoli_locs)"
   ]
  },
  {
   "cell_type": "code",
   "execution_count": 42,
   "id": "0208c5f1-ac9b-4450-9229-c8191eb68226",
   "metadata": {},
   "outputs": [
    {
     "name": "stdout",
     "output_type": "stream",
     "text": [
      "[(10, 22), (5, 30), (27, 49), (2, 35), (33, 32), (11, 15), (44, 8), (21, 25), (41, 18), (25, 45), (18, 4), (12, 22), (43, 33), (34, 24), (20, 21), (3, 34), (10, 37), (8, 4), (45, 8), (27, 34), (22, 39), (25, 29), (43, 19), (5, 25), (47, 34), (15, 41), (38, 19), (17, 20), (33, 5), (48, 42), (23, 12), (11, 13), (38, 46), (24, 27), (27, 39), (8, 26), (45, 27), (35, 16), (32, 45), (8, 44), (2, 17), (38, 16), (36, 21), (37, 7), (37, 26), (35, 45), (6, 32), (15, 19), (43, 12), (10, 3), (27, 47), (18, 12), (40, 38), (28, 26), (12, 44), (19, 15), (27, 46), (14, 32), (30, 35), (15, 5), (49, 43), (13, 48), (21, 16), (28, 5), (19, 14), (10, 23), (4, 42), (29, 7), (19, 32), (19, 11), (14, 20), (47, 15), (33, 40), (35, 12), (7, 24), (7, 41), (36, 34), (30, 29), (11, 7), (12, 49), (24, 31), (6, 49), (12, 38), (36, 33), (38, 42), (20, 29), (4, 26), (20, 10), (10, 33), (7, 48), (7, 32), (38, 38), (25, 39), (33, 13), (8, 47), (40, 30), (11, 18), (20, 12), (11, 19), (37, 37)]\n"
     ]
    }
   ],
   "source": [
    "print(iYS_locs)"
   ]
  },
  {
   "cell_type": "code",
   "execution_count": null,
   "id": "6ca1bff8-642f-4a42-a4cf-f22bb7343c4c",
   "metadata": {},
   "outputs": [],
   "source": []
  }
 ],
 "metadata": {
  "kernelspec": {
   "display_name": "Python 3 (ipykernel)",
   "language": "python",
   "name": "python3"
  },
  "language_info": {
   "codemirror_mode": {
    "name": "ipython",
    "version": 3
   },
   "file_extension": ".py",
   "mimetype": "text/x-python",
   "name": "python",
   "nbconvert_exporter": "python",
   "pygments_lexer": "ipython3",
   "version": "3.12.6"
  }
 },
 "nbformat": 4,
 "nbformat_minor": 5
}
