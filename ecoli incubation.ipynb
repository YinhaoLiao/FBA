{
 "cells": [
  {
   "cell_type": "code",
   "execution_count": 1,
   "id": "e68a6d55-7d3a-4b46-bd0f-0fca2315f800",
   "metadata": {},
   "outputs": [],
   "source": [
    "import cobra\n",
    "import cometspy as c\n",
    "import matplotlib.pyplot as plt\n",
    "import pandas as pd\n",
    "import numpy as np"
   ]
  },
  {
   "cell_type": "code",
   "execution_count": 2,
   "id": "d23596d2-3da0-431b-b1d0-405e88b7cb9b",
   "metadata": {},
   "outputs": [
    {
     "name": "stdout",
     "output_type": "stream",
     "text": [
      "building empty layout model\n",
      "models will need to be added with layout.add_model()\n",
      "Warning: The added metabolite (glc__D_e) is not able to be taken up by any of the current models\n",
      "Warning: The added metabolite (o2_e) is not able to be taken up by any of the current models\n",
      "Warning: The added metabolite (nh4_e) is not able to be taken up by any of the current models\n",
      "Warning: The added metabolite (pi_e) is not able to be taken up by any of the current models\n",
      "Warning: The added metabolite (h2o_e) is not able to be taken up by any of the current models\n",
      "Warning: The added metabolite (h_e) is not able to be taken up by any of the current models\n"
     ]
    },
    {
     "name": "stderr",
     "output_type": "stream",
     "text": [
      "D:\\pythoncode\\comets\\.venv\\Lib\\site-packages\\cometspy\\layout.py:831: FutureWarning: The behavior of DataFrame concatenation with empty or all-NA entries is deprecated. In a future version, this will no longer exclude empty or all-NA columns when determining the result dtypes. To retain the old behavior, exclude the relevant entries before the concat operation.\n",
      "  self.media = pd.concat([self.media,\n"
     ]
    }
   ],
   "source": [
    "test_tube = c.layout()\n",
    "test_tube.set_specific_metabolite('glc__D_e', 0.2) #设置葡萄糖为11mmol\n",
    "test_tube.set_specific_metabolite('o2_e',0.02)#空气中氧气摩尔质量约为0.01 mol/L\n",
    "test_tube.set_specific_metabolite('nh4_e',1000)#设置氨,数值不变\n",
    "test_tube.set_specific_metabolite('pi_e',0.1)#设置磷酸,数值不变\n",
    "test_tube.set_specific_metabolite('h2o_e',-0.001)#设置磷酸,数值不变\n",
    "test_tube.set_global_periodic_media('h2o_e',function = 'step',amplitude = 0.1,period = 1, phase = 0, offset = -0.0001)#设置环境水\n",
    "test_tube.set_specific_metabolite('h_e',1e-7, static= True)#设置氢离子,数值不变"
   ]
  },
  {
   "cell_type": "code",
   "execution_count": 3,
   "id": "36b3d856-e8ae-4f7a-ac0e-065130dfb8e0",
   "metadata": {},
   "outputs": [],
   "source": [
    "abundant_trace_metabolites =['ca2_e', 'cl_e', 'cobalt2_e', 'cu2_e', 'fe2_e', 'fe3_e', 'k_e', 'mg2_e', 'mn2_e', 'mobd_e', 'na1_e', 'ni2_e', 'sel_e', 'so3_e', 'so4_e', 'tungs_e', 'zn2_e']"
   ]
  },
  {
   "cell_type": "code",
   "execution_count": 4,
   "id": "590214dc-1131-4db9-a0a6-888fa38ff9df",
   "metadata": {},
   "outputs": [
    {
     "name": "stdout",
     "output_type": "stream",
     "text": [
      "Warning: The added metabolite (ca2_e) is not able to be taken up by any of the current models\n",
      "Warning: The added metabolite (cl_e) is not able to be taken up by any of the current models\n",
      "Warning: The added metabolite (cobalt2_e) is not able to be taken up by any of the current models\n",
      "Warning: The added metabolite (cu2_e) is not able to be taken up by any of the current models\n",
      "Warning: The added metabolite (fe2_e) is not able to be taken up by any of the current models\n",
      "Warning: The added metabolite (fe3_e) is not able to be taken up by any of the current models\n",
      "Warning: The added metabolite (k_e) is not able to be taken up by any of the current models\n",
      "Warning: The added metabolite (mg2_e) is not able to be taken up by any of the current models\n",
      "Warning: The added metabolite (mn2_e) is not able to be taken up by any of the current models\n",
      "Warning: The added metabolite (mobd_e) is not able to be taken up by any of the current models\n",
      "Warning: The added metabolite (na1_e) is not able to be taken up by any of the current models\n",
      "Warning: The added metabolite (ni2_e) is not able to be taken up by any of the current models\n",
      "Warning: The added metabolite (sel_e) is not able to be taken up by any of the current models\n",
      "Warning: The added metabolite (so3_e) is not able to be taken up by any of the current models\n",
      "Warning: The added metabolite (so4_e) is not able to be taken up by any of the current models\n",
      "Warning: The added metabolite (tungs_e) is not able to be taken up by any of the current models\n",
      "Warning: The added metabolite (zn2_e) is not able to be taken up by any of the current models\n"
     ]
    }
   ],
   "source": [
    "for met in abundant_trace_metabolites:\n",
    "    test_tube.set_specific_metabolite(met, 0.1)"
   ]
  },
  {
   "cell_type": "code",
   "execution_count": 5,
   "id": "b26aa727-ac98-4833-9c35-1cebd8ceeeb6",
   "metadata": {},
   "outputs": [
    {
     "name": "stdout",
     "output_type": "stream",
     "text": [
      "Set parameter Username\n",
      "Academic license - for non-commercial use only - expires 2025-09-23\n"
     ]
    },
    {
     "name": "stderr",
     "output_type": "stream",
     "text": [
      "D:\\pythoncode\\comets\\.venv\\Lib\\site-packages\\cometspy\\model.py:654: FutureWarning: The behavior of DataFrame concatenation with empty or all-NA entries is deprecated. In a future version, this will no longer exclude empty or all-NA columns when determining the result dtypes. To retain the old behavior, exclude the relevant entries before the concat operation.\n",
      "  self.smat = pd.concat([self.smat, cdf])\n",
      "D:\\pythoncode\\comets\\.venv\\Lib\\site-packages\\cometspy\\model.py:667: FutureWarning: Calling int on a single element Series is deprecated and will raise a TypeError in the future. Use int(ser.iloc[0]) instead\n",
      "  self.objective = [int(self.reactions[self.reactions.\n"
     ]
    },
    {
     "name": "stdout",
     "output_type": "stream",
     "text": [
      "\n",
      "Running COMETS simulation ...\n",
      "\n",
      "Debug Here ...\n",
      "Done!\n"
     ]
    },
    {
     "name": "stderr",
     "output_type": "stream",
     "text": [
      "D:\\pythoncode\\comets\\.venv\\Lib\\site-packages\\cometspy\\comets.py:437: FutureWarning: The 'delim_whitespace' keyword in pd.read_csv is deprecated and will be removed in a future version. Use ``sep='\\s+'`` instead\n",
      "  self.media = pd.read_csv(self.working_dir + self.parameters.all_params[\n"
     ]
    }
   ],
   "source": [
    "model = cobra.io.read_sbml_model('e_coli_core.xml')#导入全基因组模型\n",
    "iYO = c.model(model)#导入的模型转为comets模型\n",
    "iYO.change_bounds('EX_glc__D_e', -1000, 1000)\n",
    "#iYO.change_bounds('EX_co2_e', 0, 1000)\n",
    "iYO.initial_pop = [0, 0, 5e-5]#设置初始生物量，坐标（0，0），生物量5e-6\n",
    "test_tube.add_model(iYO)#把设置好的模型载入\n",
    "sim_params = c.params()\n",
    "sim_params.set_param('defaultVmax', 18.5)\n",
    "sim_params.set_param('defaultKm', 0.000015)\n",
    "sim_params.set_param('maxCycles', 1000)\n",
    "sim_params.set_param('timeStep', 0.01)\n",
    "sim_params.set_param('spaceWidth', 1)\n",
    "sim_params.set_param('maxSpaceBiomass', 10)\n",
    "sim_params.set_param('minSpaceBiomass', 1e-11)\n",
    "sim_params.set_param('writeMediaLog', True)\n",
    "sim_params.set_param('MediaLogRate', 1)\n",
    "#sim_params.set_param('writeBiomassLog', True)\n",
    "#sim_params.set_param('BiomassLogRate', 100)\n",
    "experiment = c.comets(test_tube, sim_params)\n",
    "experiment.run()"
   ]
  },
  {
   "cell_type": "code",
   "execution_count": 6,
   "id": "cf226031-f423-45d9-8f60-d0c199672c49",
   "metadata": {},
   "outputs": [
    {
     "name": "stdout",
     "output_type": "stream",
     "text": [
      "      cycle  e_coli_core\n",
      "0         0     0.000050\n",
      "1         1     0.000051\n",
      "2         2     0.000051\n",
      "3         3     0.000052\n",
      "4         4     0.000052\n",
      "...     ...          ...\n",
      "996     996     0.005528\n",
      "997     997     0.005528\n",
      "998     998     0.005528\n",
      "999     999     0.005528\n",
      "1000   1000     0.005528\n",
      "\n",
      "[1001 rows x 2 columns]\n"
     ]
    }
   ],
   "source": [
    "print(experiment.total_biomass)"
   ]
  },
  {
   "cell_type": "code",
   "execution_count": 7,
   "id": "30c8ede0-15e4-4a56-b43d-e498da3c317d",
   "metadata": {},
   "outputs": [
    {
     "data": {
      "text/plain": [
       "Text(0, 0.5, 'Biomass (gr.)')"
      ]
     },
     "execution_count": 7,
     "metadata": {},
     "output_type": "execute_result"
    },
    {
     "data": {
      "image/png": "[encoded data removed]",
      "text/plain": [
       "<Figure size 640x480 with 1 Axes>"
      ]
     },
     "metadata": {},
     "output_type": "display_data"
    }
   ],
   "source": [
    "ax = experiment.total_biomass.plot(x = 'cycle')\n",
    "ax.set_ylabel(\"Biomass (gr.)\")"
   ]
  },
  {
   "cell_type": "code",
   "execution_count": 8,
   "id": "11051ea0-2a79-4096-80fe-e0c68439119e",
   "metadata": {},
   "outputs": [
    {
     "data": {
      "text/plain": [
       "Text(0, 0.5, 'Concentration (mmol)')"
      ]
     },
     "execution_count": 8,
     "metadata": {},
     "output_type": "execute_result"
    },
    {
     "data": {
      "image/png": "[encoded data removed]",
      "text/plain": [
       "<Figure size 640x480 with 1 Axes>"
      ]
     },
     "metadata": {},
     "output_type": "display_data"
    }
   ],
   "source": [
    "media = experiment.media.copy()\n",
    "media2 = experiment.media.copy()\n",
    "media = media[media.conc_mmol<900]\n",
    "\n",
    "fig, ax = plt.subplots()\n",
    "media.groupby('metabolite').plot(x='cycle', ax =ax, y='conc_mmol')\n",
    "ax.legend(('acetate','ethanol', 'formate', 'glucose',))\n",
    "ax.set_ylabel(\"Concentration (mmol)\")"
   ]
  },
  {
   "cell_type": "code",
   "execution_count": 9,
   "id": "dcdc0a3c-177e-4aae-8592-40db869f661b",
   "metadata": {},
   "outputs": [
    {
     "name": "stdout",
     "output_type": "stream",
     "text": [
      "<bound method DataFrame.reset_index of       metabolite  cycle  x  y  conc_mmol\n",
      "7          h2o_e      0  1  1    -0.0010\n",
      "33         h2o_e      1  1  1    -0.0001\n",
      "59         h2o_e      2  1  1    -0.0001\n",
      "85         h2o_e      3  1  1    -0.0001\n",
      "111        h2o_e      4  1  1    -0.0001\n",
      "...          ...    ... .. ..        ...\n",
      "26930      h2o_e    996  1  1     0.0999\n",
      "26957      h2o_e    997  1  1     0.0999\n",
      "26984      h2o_e    998  1  1     0.0999\n",
      "27011      h2o_e    999  1  1     0.0999\n",
      "27038      h2o_e   1000  1  1     0.0999\n",
      "\n",
      "[1001 rows x 5 columns]>\n"
     ]
    }
   ],
   "source": [
    "txt=media.groupby('metabolite')\n",
    "print(txt.get_group('h2o_e').reset_index)"
   ]
  },
  {
   "cell_type": "code",
   "execution_count": 10,
   "id": "cd12be7a-c94a-4f25-a668-565ae3976987",
   "metadata": {},
   "outputs": [
    {
     "name": "stdout",
     "output_type": "stream",
     "text": [
      "<bound method DataFrame.reset_index of       metabolite  cycle  x  y  conc_mmol\n",
      "26         co2_e      1  1  1   0.000008\n",
      "52         co2_e      2  1  1   0.000016\n",
      "78         co2_e      3  1  1   0.000024\n",
      "104        co2_e      4  1  1   0.000033\n",
      "130        co2_e      5  1  1   0.000041\n",
      "...          ...    ... .. ..        ...\n",
      "26923      co2_e    996  1  1   0.161317\n",
      "26950      co2_e    997  1  1   0.161317\n",
      "26977      co2_e    998  1  1   0.161317\n",
      "27004      co2_e    999  1  1   0.161317\n",
      "27031      co2_e   1000  1  1   0.161317\n",
      "\n",
      "[1000 rows x 5 columns]>\n"
     ]
    }
   ],
   "source": [
    "txt2=media2.groupby('metabolite')\n",
    "print(txt2.get_group('co2_e').reset_index)"
   ]
  },
  {
   "cell_type": "code",
   "execution_count": 11,
   "id": "131b8ceb-4f0b-4a4d-990d-35a688762180",
   "metadata": {},
   "outputs": [
    {
     "name": "stdout",
     "output_type": "stream",
     "text": [
      "<bound method DataFrame.reset_index of      metabolite  cycle  x  y  conc_mmol\n",
      "16         o2_e      0  1  1   0.020000\n",
      "42         o2_e      1  1  1   0.019991\n",
      "68         o2_e      2  1  1   0.019981\n",
      "94         o2_e      3  1  1   0.019972\n",
      "120        o2_e      4  1  1   0.019962\n",
      "...         ...    ... .. ..        ...\n",
      "7478       o2_e    287  1  1   0.001040\n",
      "7504       o2_e    288  1  1   0.000823\n",
      "7530       o2_e    289  1  1   0.000604\n",
      "7556       o2_e    290  1  1   0.000384\n",
      "7582       o2_e    291  1  1   0.000165\n",
      "\n",
      "[292 rows x 5 columns]>\n"
     ]
    }
   ],
   "source": [
    "txt=media.groupby('metabolite')\n",
    "print(txt.get_group('o2_e').reset_index)"
   ]
  },
  {
   "cell_type": "code",
   "execution_count": 12,
   "id": "edcccd70-895e-460e-a6ff-6414805c1544",
   "metadata": {},
   "outputs": [
    {
     "data": {
      "text/html": [
       "<div>\n",
       "<style scoped>\n",
       "    .dataframe tbody tr th:only-of-type {\n",
       "        vertical-align: middle;\n",
       "    }\n",
       "\n",
       "    .dataframe tbody tr th {\n",
       "        vertical-align: top;\n",
       "    }\n",
       "\n",
       "    .dataframe thead th {\n",
       "        text-align: right;\n",
       "    }\n",
       "</style>\n",
       "<table border=\"1\" class=\"dataframe\">\n",
       "  <thead>\n",
       "    <tr style=\"text-align: right;\">\n",
       "      <th></th>\n",
       "      <th>metabolite</th>\n",
       "      <th>cycle</th>\n",
       "      <th>x</th>\n",
       "      <th>y</th>\n",
       "      <th>conc_mmol</th>\n",
       "    </tr>\n",
       "  </thead>\n",
       "  <tbody>\n",
       "    <tr>\n",
       "      <th>0</th>\n",
       "      <td>ca2_e</td>\n",
       "      <td>0</td>\n",
       "      <td>1</td>\n",
       "      <td>1</td>\n",
       "      <td>0.100000</td>\n",
       "    </tr>\n",
       "    <tr>\n",
       "      <th>1</th>\n",
       "      <td>cl_e</td>\n",
       "      <td>0</td>\n",
       "      <td>1</td>\n",
       "      <td>1</td>\n",
       "      <td>0.100000</td>\n",
       "    </tr>\n",
       "    <tr>\n",
       "      <th>2</th>\n",
       "      <td>cobalt2_e</td>\n",
       "      <td>0</td>\n",
       "      <td>1</td>\n",
       "      <td>1</td>\n",
       "      <td>0.100000</td>\n",
       "    </tr>\n",
       "    <tr>\n",
       "      <th>3</th>\n",
       "      <td>cu2_e</td>\n",
       "      <td>0</td>\n",
       "      <td>1</td>\n",
       "      <td>1</td>\n",
       "      <td>0.100000</td>\n",
       "    </tr>\n",
       "    <tr>\n",
       "      <th>4</th>\n",
       "      <td>fe2_e</td>\n",
       "      <td>0</td>\n",
       "      <td>1</td>\n",
       "      <td>1</td>\n",
       "      <td>0.100000</td>\n",
       "    </tr>\n",
       "    <tr>\n",
       "      <th>...</th>\n",
       "      <td>...</td>\n",
       "      <td>...</td>\n",
       "      <td>...</td>\n",
       "      <td>...</td>\n",
       "      <td>...</td>\n",
       "    </tr>\n",
       "    <tr>\n",
       "      <th>27049</th>\n",
       "      <td>so3_e</td>\n",
       "      <td>1000</td>\n",
       "      <td>1</td>\n",
       "      <td>1</td>\n",
       "      <td>0.100000</td>\n",
       "    </tr>\n",
       "    <tr>\n",
       "      <th>27050</th>\n",
       "      <td>so4_e</td>\n",
       "      <td>1000</td>\n",
       "      <td>1</td>\n",
       "      <td>1</td>\n",
       "      <td>0.100000</td>\n",
       "    </tr>\n",
       "    <tr>\n",
       "      <th>27051</th>\n",
       "      <td>succ_e</td>\n",
       "      <td>1000</td>\n",
       "      <td>1</td>\n",
       "      <td>1</td>\n",
       "      <td>0.005738</td>\n",
       "    </tr>\n",
       "    <tr>\n",
       "      <th>27052</th>\n",
       "      <td>tungs_e</td>\n",
       "      <td>1000</td>\n",
       "      <td>1</td>\n",
       "      <td>1</td>\n",
       "      <td>0.100000</td>\n",
       "    </tr>\n",
       "    <tr>\n",
       "      <th>27053</th>\n",
       "      <td>zn2_e</td>\n",
       "      <td>1000</td>\n",
       "      <td>1</td>\n",
       "      <td>1</td>\n",
       "      <td>0.100000</td>\n",
       "    </tr>\n",
       "  </tbody>\n",
       "</table>\n",
       "<p>27054 rows × 5 columns</p>\n",
       "</div>"
      ],
      "text/plain": [
       "      metabolite  cycle  x  y  conc_mmol\n",
       "0          ca2_e      0  1  1   0.100000\n",
       "1           cl_e      0  1  1   0.100000\n",
       "2      cobalt2_e      0  1  1   0.100000\n",
       "3          cu2_e      0  1  1   0.100000\n",
       "4          fe2_e      0  1  1   0.100000\n",
       "...          ...    ... .. ..        ...\n",
       "27049      so3_e   1000  1  1   0.100000\n",
       "27050      so4_e   1000  1  1   0.100000\n",
       "27051     succ_e   1000  1  1   0.005738\n",
       "27052    tungs_e   1000  1  1   0.100000\n",
       "27053      zn2_e   1000  1  1   0.100000\n",
       "\n",
       "[27054 rows x 5 columns]"
      ]
     },
     "execution_count": 12,
     "metadata": {},
     "output_type": "execute_result"
    }
   ],
   "source": [
    "experiment.media"
   ]
  },
  {
   "cell_type": "code",
   "execution_count": 13,
   "id": "f0b99521-79ed-4fa8-ac34-0b29b248506d",
   "metadata": {},
   "outputs": [],
   "source": [
    "#df1=experiment.media\n",
    "#df2=experiment.total_biomass\n",
    "#with pd.ExcelWriter('ecoliperiod002.xlsx') as writer:  \n",
    "#    df1.to_excel(writer, index = False, sheet_name='media')\n",
    "#    df2.to_excel(writer, index = False, sheet_name='biomass')"
   ]
  },
  {
   "cell_type": "code",
   "execution_count": 14,
   "id": "a0c0b23d-318c-496f-9412-8b1e07403df5",
   "metadata": {},
   "outputs": [
    {
     "data": {
      "text/plain": [
       "['ac_e',\n",
       " 'acald_e',\n",
       " 'akg_e',\n",
       " 'co2_e',\n",
       " 'etoh_e',\n",
       " 'for_e',\n",
       " 'fru_e',\n",
       " 'fum_e',\n",
       " 'glc__D_e',\n",
       " 'gln__L_e',\n",
       " 'glu__L_e',\n",
       " 'h2o_e',\n",
       " 'h_e',\n",
       " 'lac__D_e',\n",
       " 'mal__L_e',\n",
       " 'nh4_e',\n",
       " 'o2_e',\n",
       " 'pi_e',\n",
       " 'pyr_e',\n",
       " 'succ_e']"
      ]
     },
     "execution_count": 14,
     "metadata": {},
     "output_type": "execute_result"
    }
   ],
   "source": [
    "test_tube.all_exchanged_mets"
   ]
  },
  {
   "cell_type": "code",
   "execution_count": null,
   "id": "d269eb17-068b-49ef-9e1f-780ab6dfb229",
   "metadata": {},
   "outputs": [],
   "source": []
  }
 ],
 "metadata": {
  "kernelspec": {
   "display_name": "Python 3 (ipykernel)",
   "language": "python",
   "name": "python3"
  },
  "language_info": {
   "codemirror_mode": {
    "name": "ipython",
    "version": 3
   },
   "file_extension": ".py",
   "mimetype": "text/x-python",
   "name": "python",
   "nbconvert_exporter": "python",
   "pygments_lexer": "ipython3",
   "version": "3.12.6"
  }
 },
 "nbformat": 4,
 "nbformat_minor": 5
}
